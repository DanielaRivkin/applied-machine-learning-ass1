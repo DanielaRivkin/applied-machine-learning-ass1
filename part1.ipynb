{
  "nbformat": 4,
  "nbformat_minor": 0,
  "metadata": {
    "colab": {
      "provenance": []
    },
    "kernelspec": {
      "name": "python3",
      "display_name": "Python 3"
    },
    "language_info": {
      "name": "python"
    }
  },
  "cells": [
    {
      "cell_type": "code",
      "execution_count": 81,
      "metadata": {
        "id": "-fEk2oLwOGI6"
      },
      "outputs": [],
      "source": [
        "from sklearn.datasets import load_digits\n",
        "from sklearn.model_selection import train_test_split\n",
        "from sklearn.linear_model import LogisticRegression\n",
        "import matplotlib.pyplot as plt\n",
        "import numpy as np"
      ]
    },
    {
      "cell_type": "code",
      "source": [
        "digits = load_digits()\n",
        "\n",
        "print(f\"Number of samples: {len(digits.data)}\")\n",
        "print(f\"Number of features: {len(digits.data[0])}\")\n",
        "print(f\"Variance of the features: {np.var(digits.data)}\")\n",
        "print(f\"Number of labels: {len(np.unique(digits.target))}\")\n",
        "print(f\"labels: {np.unique(digits.target)}\")"
      ],
      "metadata": {
        "colab": {
          "base_uri": "https://localhost:8080/"
        },
        "id": "2KTIC3goO5hH",
        "outputId": "840d58dc-975c-45fd-f1a6-eb3dfbc5b489"
      },
      "execution_count": 92,
      "outputs": [
        {
          "output_type": "stream",
          "name": "stdout",
          "text": [
            "Number of samples: 1797\n",
            "Number of features: 64\n",
            "Range of values: 0.0-16.0\n",
            "Variance of the features: 36.20173240585726\n",
            "Number of labels: 10\n",
            "labels: [0 1 2 3 4 5 6 7 8 9]\n"
          ]
        }
      ]
    },
    {
      "cell_type": "markdown",
      "source": [
        "create an array for test size and accuracies so we can plot them. for r in range from 0.1 to 0.9 we train the model in a test-size ratio of r and then plot the result for each r."
      ],
      "metadata": {
        "id": "0lTdSSTywHB9"
      }
    },
    {
      "cell_type": "code",
      "source": [
        "test_sizes = []\n",
        "accuracies = []\n",
        "\n",
        "for test_size in range(1, 10):\n",
        "    test_size_frac = test_size / 10.0\n",
        "    \n",
        "    X_train, X_test, y_train, y_test = train_test_split(digits.data, digits.target, test_size=test_size_frac)\n",
        "    \n",
        "    lr = LogisticRegression(max_iter=10000)\n",
        "    lr.fit(X_train, y_train)\n",
        "    \n",
        "    accuracy = lr.score(X_test, y_test)\n",
        "    \n",
        "    test_sizes.append(test_size_frac)\n",
        "    accuracies.append(accuracy)\n",
        "\n",
        "plt.plot(test_sizes, accuracies, marker='o')\n",
        "plt.xlabel('Test Size')\n",
        "plt.ylabel('Accuracy')\n",
        "plt.title('Accuracy vs Test Size')\n",
        "plt.show()"
      ],
      "metadata": {
        "colab": {
          "base_uri": "https://localhost:8080/",
          "height": 472
        },
        "id": "MR3Q8I8cPmTj",
        "outputId": "5d24b3ed-5006-40ff-ed8b-6e4890f37c53"
      },
      "execution_count": null,
      "outputs": [
        {
          "output_type": "display_data",
          "data": {
            "text/plain": [
              "<Figure size 640x480 with 1 Axes>"
            ],
            "image/png": "[encoded data removed]"
          },
          "metadata": {}
        }
      ]
    },
    {
      "cell_type": "markdown",
      "source": [
        "we create a sub dataset of size 1000 that is unblanced (172 samples of one label and 92 samples for each of the other 9 lables)"
      ],
      "metadata": {
        "id": "KFMjo6-Kwkmz"
      }
    },
    {
      "cell_type": "code",
      "source": [
        "from sklearn.utils import shuffle\n",
        "import random\n",
        "\n",
        "data, target = digits.data, digits.target\n",
        "unbalanced_data = []\n",
        "unbalanced_target = []\n",
        "unblaenced_label = random.randint(0, 9)\n",
        "\n",
        "for label in np.unique(target):\n",
        "    num_of_samples = 172 if label == unblaenced_label else 92\n",
        "    label_indices = np.where(target == label)[0]\n",
        "\n",
        "    selected_label_indices = np.random.choice(label_indices, num_of_samples, replace=False)\n",
        "\n",
        "    selected_data = data[selected_label_indices]\n",
        "    selected_target = target[selected_label_indices]\n",
        "    \n",
        "    unbalanced_data.extend(selected_data)\n",
        "    unbalanced_target.extend(selected_target)\n",
        "  \n",
        "unbalanced_data, unbalanced_target = shuffle(unbalanced_data, unbalanced_target, random_state=42)\n",
        "\n",
        "unbalanced_data = np.array(unbalanced_data)\n",
        "unbalanced_target = np.array(unbalanced_target)\n"
      ],
      "metadata": {
        "id": "z7pLYgxJRN6m"
      },
      "execution_count": null,
      "outputs": []
    },
    {
      "cell_type": "markdown",
      "source": [
        "based on the pusdo code given, this part takes lmin samples (calculated by itrating over the number of samples for each label and finding the min) from each label and add them to the dataset."
      ],
      "metadata": {
        "id": "LdfJGvMAvfyj"
      }
    },
    {
      "cell_type": "code",
      "source": [
        "lmin = float('inf')\n",
        "for label in np.unique(unbalanced_target):\n",
        "  tmp = np.where(unbalanced_target == label)[0]\n",
        "  if len(tmp) < lmin:\n",
        "    lmin = len(tmp)\n",
        "\n",
        "balanced_data = []\n",
        "balanced_target = []\n",
        "\n",
        "for label in np.unique(target):\n",
        "    label_indices = np.where(target == label)[0]\n",
        "\n",
        "    selected_label_indices = np.random.choice(label_indices, lmin, replace=False)\n",
        "\n",
        "    selected_data = data[selected_label_indices]\n",
        "    selected_target = target[selected_label_indices]\n",
        "    \n",
        "    balanced_data.extend(selected_data)\n",
        "    balanced_target.extend(selected_target)\n",
        "balanced_data = np.array(balanced_data)\n",
        "balanced_target = np.array(balanced_target)"
      ],
      "metadata": {
        "id": "j6rPSC5lYHL9"
      },
      "execution_count": null,
      "outputs": []
    },
    {
      "cell_type": "markdown",
      "source": [
        "same as before, we train the model on test-size ratio of range from 0.1 to 0.9 and show the results"
      ],
      "metadata": {
        "id": "-GVaJcUYwxg-"
      }
    },
    {
      "cell_type": "code",
      "source": [
        "test_sizes_2 = []\n",
        "accuracies_2 = []\n",
        "\n",
        "# Iterate over the range of test sizes\n",
        "for test_size in range(1, 10):\n",
        "    # Compute the test size as a fraction of the dataset size\n",
        "    test_size_frac = test_size / 10.0\n",
        "    \n",
        "    # Split the data into train and test sets\n",
        "    X_train, X_test, y_train, y_test = train_test_split(balanced_data, balanced_target, test_size=test_size_frac)\n",
        "    \n",
        "    # Train a logistic regression model on the train set\n",
        "    lr = LogisticRegression(max_iter=10000)\n",
        "    lr.fit(X_train, y_train)\n",
        "    \n",
        "    # Evaluate the accuracy on the test set\n",
        "    accuracy = lr.score(X_test, y_test)\n",
        "    print(f\"Test size: {test_size_frac}, Accuracy: {accuracy:.4f}\")"
      ],
      "metadata": {
        "colab": {
          "base_uri": "https://localhost:8080/"
        },
        "id": "f6Wpq-5QbRcs",
        "outputId": "98799733-9bc5-48ed-ada2-64c5f6021f4c"
      },
      "execution_count": null,
      "outputs": [
        {
          "output_type": "stream",
          "name": "stdout",
          "text": [
            "Test size: 0.1, Accuracy: 0.9891\n",
            "Test size: 0.2, Accuracy: 0.9565\n",
            "Test size: 0.3, Accuracy: 0.9457\n",
            "Test size: 0.4, Accuracy: 0.9565\n",
            "Test size: 0.5, Accuracy: 0.9609\n",
            "Test size: 0.6, Accuracy: 0.9475\n",
            "Test size: 0.7, Accuracy: 0.9394\n",
            "Test size: 0.8, Accuracy: 0.9253\n",
            "Test size: 0.9, Accuracy: 0.8829\n"
          ]
        }
      ]
    },
    {
      "cell_type": "markdown",
      "source": [
        "naive_k_feature_selection takes the train-set, test-set, and k as input, trains a classifier on all possible combinations of k features, and returns the best k features and the accuracy achieved on the test-set."
      ],
      "metadata": {
        "id": "EIeCa-eXvUVC"
      }
    },
    {
      "cell_type": "code",
      "source": [
        "from itertools import combinations\n",
        "\n",
        "def naive_k_feature_selection(X_train, y_train, X_test, y_test, k):\n",
        "    feature_combinations = list(combinations(range(X_train.shape[1]), k))\n",
        "\n",
        "    best_accuracy = 0\n",
        "    best_features = None\n",
        "\n",
        "    for features in feature_combinations:\n",
        "        X_train_selected = X_train[:, features]\n",
        "        X_test_selected = X_test[:, features]\n",
        "\n",
        "        lr = LogisticRegression(max_iter=10000)\n",
        "        lr.fit(X_train_selected, y_train)\n",
        "\n",
        "        accuracy = lr.score(X_test_selected, y_test)\n",
        "\n",
        "        if accuracy > best_accuracy:\n",
        "            best_accuracy = accuracy\n",
        "            best_features = features\n",
        "\n",
        "    return best_features, best_accuracy"
      ],
      "metadata": {
        "id": "5EEBfrDPd5sH"
      },
      "execution_count": null,
      "outputs": []
    },
    {
      "cell_type": "code",
      "source": [
        "X_train, X_test, y_train, y_test = train_test_split(data, target)\n",
        "k = 2\n",
        "best_features, best_accuracy = naive_k_feature_selection(X_train, y_train, X_test, y_test, k)\n",
        "\n",
        "print(f\"Best features: {best_features}\")\n",
        "print(f\"Best accuracy: {best_accuracy:.4f}\")"
      ],
      "metadata": {
        "colab": {
          "base_uri": "https://localhost:8080/"
        },
        "id": "w5JUdzI4r0Wy",
        "outputId": "d83ef988-d6f3-41b9-c54c-a2a0b3109783"
      },
      "execution_count": 93,
      "outputs": [
        {
          "output_type": "stream",
          "name": "stdout",
          "text": [
            "Best features: (21, 42)\n",
            "Best accuracy: 0.4378\n"
          ]
        }
      ]
    }
  ]
}